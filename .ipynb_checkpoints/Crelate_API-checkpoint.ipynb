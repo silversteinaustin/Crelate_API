{
 "cells": [
  {
   "cell_type": "code",
   "execution_count": 10,
   "id": "c21b5a0d-9adc-491c-a607-84218430a32d",
   "metadata": {},
   "outputs": [],
   "source": [
    "#Import any dependencies\n",
    "import requests\n",
    "import json\n",
    "import pandas as pd\n",
    "from Config import api_key\n",
    "import datetime"
   ]
  },
  {
   "cell_type": "code",
   "execution_count": 11,
   "id": "69c98428-7317-4044-9ef1-acd6408e8546",
   "metadata": {},
   "outputs": [],
   "source": [
    "# Get the current UTC time\n",
    "current_time = datetime.datetime.utcnow()\n",
    "\n",
    "# Format the time as an ISO 8601 string\n",
    "when_string = current_time.strftime('%Y-%m-%dT%H:%M:%SZ')"
   ]
  },
  {
   "cell_type": "code",
   "execution_count": 12,
   "id": "dd924bbf-1983-461c-ba24-f8622fdc5e16",
   "metadata": {},
   "outputs": [],
   "source": [
    "#Store API base url into a variable\n",
    "api_base_url = \"https://api.crelate.com/\""
   ]
  },
  {
   "cell_type": "code",
   "execution_count": 13,
   "id": "3faf7a51-9bd1-4f7c-8e30-384918771b5c",
   "metadata": {},
   "outputs": [],
   "source": [
    "#Store form submission data into a Dataframe\n",
    "career_matchmaking_app_data = {\n",
    "    \"first_name\": request.form.get(\"fname\"),\n",
    "    \"last_name\": request.form.get(\"lname\"),\n",
    "    \"email\":  request.form.get(\"email\"),\n",
    "    \"phone\": request.form.get(\"phone\"),\n",
    "    \"resume\": request.form.get(\"resume\")  \n",
    "}\n",
    "career_matchmaking_df = pd.DataFrame([career_matchmaking_app_data])\n"
   ]
  },
  {
   "cell_type": "code",
   "execution_count": 14,
   "id": "1e085adf-d524-405a-bb98-7173a22b365f",
   "metadata": {},
   "outputs": [],
   "source": [
    "# Create a function to make API Calls\n",
    "def make_api_call(endpoint, method, data=None):\n",
    "    headers = {\n",
    "        \"Authorization\": f\"Bearer {api_key}\", \n",
    "        \"Content-Type\": \"application/json\"\n",
    "    }\n",
    "    url = f\"{api_base_url}/{endpoint}\"\n",
    "    response = requests.request(method, url, headers=headers, json=data)\n",
    "    return response.json()\n"
   ]
  },
  {
   "cell_type": "code",
   "execution_count": 15,
   "id": "e9f34025-c5ae-409a-bb52-2e0f9c3a2eef",
   "metadata": {},
   "outputs": [],
   "source": [
    "# Construct application payload:\n",
    "activity_payload = {\n",
    "    \"entity\": {\n",
    "        \"Subject\": \"Career Matchmaking Application Submission\",\n",
    "        \"From\": \"employment@flccmail.com\",\n",
    "        \"To\": \"employment@flccmail.com\",\n",
    "        \"VerbId\": {\"Id\": \"placeholder\"},  # Replace with the Verb ID for \"Applied to Job\"\n",
    "        \"When\": when_string,\n",
    "    }\n",
    "}"
   ]
  },
  {
   "cell_type": "code",
   "execution_count": null,
   "id": "fbfb0a13-2303-4f8c-85d1-1ee919647852",
   "metadata": {},
   "outputs": [],
   "source": [
    "#Call the API\n",
    "response = make_api_call(\"Activities\", \"POST\", activity_payload)\n",
    "print(response)\n"
   ]
  },
  {
   "cell_type": "code",
   "execution_count": null,
   "id": "3fbeadae-7458-4ac2-93f5-90ae1df6cd3c",
   "metadata": {},
   "outputs": [],
   "source": [
    "#Construct the API payload\n",
    "application_payload = {\n",
    "    \"entity\": {\n",
    "        \"FirstName\": df[\"first_name\"][0],\n",
    "        \"LastName\": df[\"last_name\"][0],\n",
    "        \"EmailAddresses_Personal\": {\"IsPrimary\": True, \"Value\": df[\"email\"][0]},\n",
    "        \"PhoneNumbers_Mobile\": {\"IsPrimary\": True, \"Value\": df[\"phone\"][0]},\n",
    "    }\n",
    "}\n"
   ]
  },
  {
   "cell_type": "code",
   "execution_count": null,
   "id": "a5e8cd23-baa6-4e94-a969-9407d092f098",
   "metadata": {},
   "outputs": [],
   "source": [
    "#Call the API\n",
    "response = make_api_call(\"Applications\", \"POST\", application_payload)\n",
    "print(response)\n"
   ]
  }
 ],
 "metadata": {
  "kernelspec": {
   "display_name": "Python 3 (ipykernel)",
   "language": "python",
   "name": "python3"
  },
  "language_info": {
   "codemirror_mode": {
    "name": "ipython",
    "version": 3
   },
   "file_extension": ".py",
   "mimetype": "text/x-python",
   "name": "python",
   "nbconvert_exporter": "python",
   "pygments_lexer": "ipython3",
   "version": "3.11.5"
  }
 },
 "nbformat": 4,
 "nbformat_minor": 5
}
